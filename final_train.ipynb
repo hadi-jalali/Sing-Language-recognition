{
 "cells": [
  {
   "cell_type": "code",
   "execution_count": 32,
   "id": "b31bc661",
   "metadata": {},
   "outputs": [],
   "source": [
    "# matplotlib\n",
    "import matplotlib.pyplot as plt\n",
    "\n",
    "# numpy\n",
    "import numpy as np\n",
    "\n",
    "# torch\n",
    "import torch\n",
    "from torch.utils.data import Dataset, DataLoader\n",
    "import torch.nn as nn\n",
    "from torchvision import transforms\n",
    "\n",
    "# misc\n",
    "import time\n",
    "from datetime import datetime\n",
    "from torchinfo import summary\n",
    "\n",
    "# preprocessing \n",
    "import av\n",
    "import pandas as pd\n",
    "import matplotlib.pyplot as plt\n",
    "import cv2\n",
    "\n",
    "\n",
    "# helper classes and functions\n",
    "from train_model import train\n",
    "from model import CNN_LSTM, VGG_LSTM\n",
    "\n",
    "# logging\n",
    "import os\n",
    "import logging\n",
    "from torch.utils.tensorboard import SummaryWriter"
   ]
  },
  {
   "cell_type": "code",
   "execution_count": 33,
   "id": "6f02e7cd",
   "metadata": {},
   "outputs": [],
   "source": [
    "try:\n",
    "    import mediapipe as mp\n",
    "except:\n",
    "    !pip install mediapipe\n",
    "    import mediapipe as mp"
   ]
  },
  {
   "cell_type": "code",
   "execution_count": 34,
   "id": "35dfd5b3",
   "metadata": {},
   "outputs": [],
   "source": [
    "# create relevant directories\n",
    "\n",
    "# create dir to save logs if it does not exist\n",
    "if not os.path.exists(\"log\"):\n",
    "    os.mkdir(\"log\")\n",
    "\n",
    "# create dir to save runs if it does not exist\n",
    "if not os.path.exists(\"runs\"):\n",
    "    os.mkdir(\"runs\")\n",
    "\n",
    "# create dir to save models if it does not exist\n",
    "if not os.path.exists(\"saved_models\"):\n",
    "    os.mkdir(\"saved_models\")"
   ]
  },
  {
   "cell_type": "code",
   "execution_count": 35,
   "id": "87fab7db",
   "metadata": {},
   "outputs": [
    {
     "name": "stderr",
     "output_type": "stream",
     "text": [
      "Logging to file...\n"
     ]
    }
   ],
   "source": [
    "log_path = \"log/cnnlstm_{:%Y-%m-%d_%H-%M-%S}.log\".format(datetime.now())\n",
    "sum_path = \"runs/cnnlstm_{:%Y-%m-%d_%H-%M-%S}\".format(datetime.now())\n",
    "\n",
    "# Log to file & tensorboard writer\n",
    "logging.basicConfig(level=logging.INFO, format='%(message)s', handlers=[logging.FileHandler(log_path), logging.StreamHandler()])\n",
    "logger = logging.getLogger('signo-lingo')\n",
    "logger.info('Logging to file...')\n",
    "writer = SummaryWriter(sum_path)"
   ]
  },
  {
   "cell_type": "code",
   "execution_count": 36,
   "id": "8ad3d4d2",
   "metadata": {},
   "outputs": [
    {
     "name": "stdout",
     "output_type": "stream",
     "text": [
      "cuda\n"
     ]
    }
   ],
   "source": [
    "device = torch.device('cuda' if torch.cuda.is_available() else 'cpu')\n",
    "print(device)"
   ]
  },
  {
   "cell_type": "code",
   "execution_count": 37,
   "id": "ad26ac91",
   "metadata": {},
   "outputs": [],
   "source": [
    "data_dir = \"dataset\"\n",
    "train_dir = f'{data_dir}/train'\n",
    "val_dir = f'{data_dir}/val'\n",
    "test_dir = f'{data_dir}/test'\n"
   ]
  },
  {
   "cell_type": "code",
   "execution_count": 38,
   "id": "ff0de6fc",
   "metadata": {},
   "outputs": [],
   "source": [
    "root_path = \"dataset\"\n",
    "\n",
    "train_path = [os.path.join('{}/train'.format(root_path), f) for f in os.listdir('{}/train'.format(root_path))]\n",
    "val_path = [os.path.join('{}/val'.format(root_path), f) for f in os.listdir('{}/val'.format(root_path))]\n",
    "test_path = [os.path.join('{}/test'.format(root_path), f) for f in os.listdir('{}/test'.format(root_path))]"
   ]
  },
  {
   "cell_type": "code",
   "execution_count": 39,
   "id": "eba0d251",
   "metadata": {},
   "outputs": [],
   "source": [
    "# All labels\n",
    "train_label_df = pd.read_csv(r'{}/train_labels.csv'.format(root_path), header=None)\n",
    "test_label_df = pd.read_csv(r'{}/test_labels.csv'.format(root_path), header=None)\n",
    "val_label_df = pd.read_csv(r'{}/val_labels.csv'.format(root_path), header=None)\n",
    "\n",
    "# convert all into hashmap - key = u_vid_name , value = label\n",
    "\n",
    "train_label = {k[0]: k[1] for k in train_label_df.values.tolist()}\n",
    "test_label = {k[0]: k[1] for k in test_label_df.values.tolist()}\n",
    "val_label = {k[0]: k[1] for k in val_label_df.values.tolist()}"
   ]
  },
  {
   "cell_type": "code",
   "execution_count": 40,
   "id": "27d23c5a",
   "metadata": {},
   "outputs": [
    {
     "name": "stdout",
     "output_type": "stream",
     "text": [
      "total unique label: 226\n"
     ]
    }
   ],
   "source": [
    "# Total label + turkish to english translation\n",
    "\n",
    "total_label = pd.read_csv(r'{}/ClassId.csv'.format(root_path))\n",
    "u_len_label = len(total_label['ClassId'].unique())\n",
    "print(\"total unique label:\", u_len_label)"
   ]
  },
  {
   "cell_type": "code",
   "execution_count": 41,
   "id": "fef38444",
   "metadata": {},
   "outputs": [],
   "source": [
    "def pose_styling(inp_arr):\n",
    "    # Set up drawing and holistic\n",
    "    mp_drawing = mp.solutions.drawing_utils\n",
    "    mp_holistic = mp.solutions.holistic\n",
    "\n",
    "    mp_drawing.DrawingSpec(color=(0,0,255), thickness=2, circle_radius=2)\n",
    "\n",
    "    # Drawing image\n",
    "    pose_arr = []\n",
    "    with mp_holistic.Holistic(min_detection_confidence=0.5, min_tracking_confidence=0.5) as holistic:\n",
    "        for image in inp_arr:\n",
    "            results = holistic.process(image)\n",
    "\n",
    "            # 1. Draw face landmarks\n",
    "            mp_drawing.draw_landmarks(image, results.face_landmarks, mp_holistic.FACEMESH_TESSELATION, \n",
    "                                     mp_drawing.DrawingSpec(color=(80,110,10), thickness=1, circle_radius=1),\n",
    "                                     mp_drawing.DrawingSpec(color=(80,256,121), thickness=1, circle_radius=1)\n",
    "                                     )\n",
    "\n",
    "            # 2. Right hand\n",
    "            mp_drawing.draw_landmarks(image, results.right_hand_landmarks, mp_holistic.HAND_CONNECTIONS, \n",
    "                                     mp_drawing.DrawingSpec(color=(80,22,10), thickness=1, circle_radius=1),\n",
    "                                     mp_drawing.DrawingSpec(color=(80,44,121), thickness=1, circle_radius=1)\n",
    "                                     )\n",
    "\n",
    "            # 3. Left Hand\n",
    "            mp_drawing.draw_landmarks(image, results.left_hand_landmarks, mp_holistic.HAND_CONNECTIONS, \n",
    "                                     mp_drawing.DrawingSpec(color=(121,22,76), thickness=1, circle_radius=1),\n",
    "                                     mp_drawing.DrawingSpec(color=(121,44,250), thickness=1, circle_radius=1)\n",
    "                                     )\n",
    "\n",
    "            # 4. Pose Detections\n",
    "            mp_drawing.draw_landmarks(image, results.pose_landmarks, mp_holistic.POSE_CONNECTIONS, \n",
    "                                     mp_drawing.DrawingSpec(color=(245,117,66), thickness=1, circle_radius=1),\n",
    "                                     mp_drawing.DrawingSpec(color=(245,66,230), thickness=1, circle_radius=1)\n",
    "                                     )\n",
    "\n",
    "            pose_arr.append(image)\n",
    "    return pose_arr"
   ]
  },
  {
   "cell_type": "code",
   "execution_count": 42,
   "id": "150237a7",
   "metadata": {},
   "outputs": [],
   "source": [
    "# pick fix frames\n",
    "'''\n",
    "e.g.\n",
    "input_frame = 5, output_frame = 3\n",
    "\n",
    "steps 1. create an array and multiply each frame by output factor\n",
    "    [1, 1, 1, 2, 2, 2, 3, 3, 3, 4, 4, 4, 5, 5, 5] \n",
    "    \n",
    "step 2. Divide by output section\n",
    "    [1, 1, 1, 2, 2, | 2, 3, 3, 3, 4, | 4, 4, 5, 5, 5]\n",
    "    \n",
    "step 3. Find the center index to pick\n",
    "    5 // 2 = 2\n",
    "    \n",
    "step 4. Select center index from each section\n",
    "    [1, 1*, 1, 2, 2, | 2, 3*, 3, 3, 4, | 4, 4*, 5, 5, 5]\n",
    "    \n",
    "step 5. Return a set of those index\n",
    "    set([1, 3, 4])\n",
    "'''\n",
    "def fix_frame(input_frame: int, output_frame: int) -> set:\n",
    "    '''\n",
    "    input\n",
    "        - number of input frames\n",
    "        - number of output frames\n",
    "    output\n",
    "        - a set of frames\n",
    "    '''\n",
    "    if input_frame < output_frame:\n",
    "        print('Spotted video that have input frame: {} < output frame: {}'.format(input_frame, output_frame))\n",
    "        return set([i for i in range(1, input_frame+1)])\n",
    "    \n",
    "    # create array to pick from\n",
    "    pick_arr = []\n",
    "    for i in range(1,input_frame+1):\n",
    "        for r in range(output_frame):\n",
    "            pick_arr.append(i)\n",
    "            \n",
    "    # decide on index to capture\n",
    "    # e.g. frame 58//2 = 29\n",
    "    ind = input_frame//2\n",
    "    \n",
    "    # capture frame\n",
    "    output = set()\n",
    "    i = 1\n",
    "    batch = 0\n",
    "    while (i + (batch * input_frame)) < len(pick_arr):\n",
    "        if i == ind:\n",
    "            output.add(pick_arr[i + (batch * input_frame) - 1])\n",
    "        i+=1\n",
    "        if i == input_frame + 1:\n",
    "            i = 1\n",
    "            batch += 1\n",
    "    if len(output) != output_frame:\n",
    "        raise ValueError('output does not have the same frame requirements. output: {}, required: {}'.format(len(output), output_frame))\n",
    "    return output"
   ]
  },
  {
   "cell_type": "code",
   "execution_count": 43,
   "id": "910919d9",
   "metadata": {},
   "outputs": [],
   "source": [
    "def extract_frames(vid, transforms = None, frames_cap = 30):\n",
    "    \n",
    "    selector = fix_frame(len(vid), frames_cap)\n",
    "    output = []\n",
    "    for e,frame in enumerate(vid):\n",
    "        if e+1 in selector:\n",
    "            output.append(frame)\n",
    "    \n",
    "    # edge case\n",
    "    if len(vid) < frames_cap:\n",
    "        remainder = frames_cap - len(vid)\n",
    "        # take last frame\n",
    "        last_frame = vid[-1]\n",
    "        for _ in range(remainder):\n",
    "            output.append(last_frame)\n",
    "        \n",
    "    return np.array(output)"
   ]
  },
  {
   "cell_type": "code",
   "execution_count": 44,
   "id": "7582e80f",
   "metadata": {},
   "outputs": [],
   "source": [
    "# mask rbg image\n",
    "def masking(rbg_vid, depth_vid):\n",
    "    \"\"\"\n",
    "    input\n",
    "        - path for rbg\n",
    "        - path for depth\n",
    "    output\n",
    "        - array of numpy arrays\n",
    "    \"\"\"\n",
    "    rbg_arr = []\n",
    "    container_rbg = av.open(rbg_vid)\n",
    "\n",
    "    for packet in container_rbg.demux():\n",
    "        for frame in packet.decode():\n",
    "            rbg_arr.append(np.array(frame.to_image()))\n",
    "\n",
    "    depth_arr = []\n",
    "    container_depth = av.open(depth_vid)\n",
    "\n",
    "    for packet in container_depth.demux():\n",
    "        for frame in packet.decode():\n",
    "            depth_arr.append(np.array(frame.to_image()))\n",
    "            \n",
    "    # pose estimation\n",
    "    rbg_arr = pose_styling(rbg_arr)\n",
    "\n",
    "    # display - correct color orientation\n",
    "    overlay_arr = []\n",
    "    for i in range(len(rbg_arr)):\n",
    "        c = cv2.cvtColor(rbg_arr[i], cv2.COLOR_BGR2RGB)\n",
    "        gray = cv2.cvtColor(depth_arr[i], cv2.COLOR_BGR2GRAY)\n",
    "        overlay = cv2.bitwise_and(c,c, mask= gray)\n",
    "        \n",
    "        # resize and reshape\n",
    "        overlay = cv2.resize(overlay, (256,256))\n",
    "        \n",
    "        # convert from (h , w, c) to (c, h, w)\n",
    "        overlay_reshape = np.transpose(overlay, (2, 0, 1))\n",
    "        \n",
    "        overlay_arr.append(overlay_reshape)\n",
    "        \n",
    "    return np.array(overlay_arr)"
   ]
  },
  {
   "cell_type": "code",
   "execution_count": 56,
   "id": "a65d3ec9",
   "metadata": {},
   "outputs": [],
   "source": [
    "class Turkish_Dataset(Dataset):\n",
    "    def __init__(self, paths, labels):\n",
    "        self.paths = paths\n",
    "        self.labels = labels\n",
    "        self._get_unique()\n",
    "        \n",
    "    def _get_unique(self):\n",
    "        u_vid_depth = {}\n",
    "        u_vid_color = {}\n",
    "        u_vid = set()\n",
    "        for path in self.paths:\n",
    "            vid = path.split(\"\\\\\")[-1].split(\".\")[0] # train\\\\signer0_sample1_color.mp4 or train\\\\signer0_sample1_depth.mp4\n",
    "            vid_split = vid.split(\"_\")\n",
    "            vid_type = vid_split[-1] # color or depth\n",
    "            vid_name = \"_\".join(vid_split[:-1]) # signer0_sample1_color\n",
    "            if vid_type == \"color\":\n",
    "                u_vid_color[vid_name] = path\n",
    "            elif vid_type == \"depth\":\n",
    "                u_vid_depth[vid_name] = path\n",
    "            else:\n",
    "                raise ValueError('Detected vid type as neither color nor depth. type is', vid_type)\n",
    "            u_vid.add(vid_name)\n",
    "        self.u_vid_depth = u_vid_depth\n",
    "        self.u_vid_color = u_vid_color\n",
    "        self.u_vid = list(u_vid)\n",
    "    \n",
    "    def __getitem__(self, index):\n",
    "        vid_name = self.u_vid[index]\n",
    "        vid_label = self.labels[vid_name]\n",
    "        \n",
    "        vid_color = self.u_vid_color[vid_name]\n",
    "        vid_depth = self.u_vid_depth[vid_name]\n",
    "        \n",
    "        # preprocessing\n",
    "        #vid_arr = masking(vid_color, vid_depth)\n",
    "#         if (len(vid_arr) < 30):\n",
    "#             print('{} has {} frames'.format(vid_name, len(vid_arr)))\n",
    "        vid_arr = extract_frames(vid_arr, 30)\n",
    "\n",
    "        # create one-hot-encoding for label\n",
    "        #label = np.zeros(u_len_label)\n",
    "        label = np.zeros(226)\n",
    "        label[vid_label] = 1\n",
    "        \n",
    "        # convert arr to tensors\n",
    "        vid_arr = torch.from_numpy(vid_arr).float()\n",
    "        label = torch.from_numpy(label).long().argmax()\n",
    "        \n",
    "        # return masked video array and label\n",
    "        return vid_arr, label\n",
    "                \n",
    "    \n",
    "    def __len__(self):\n",
    "        return len(self.u_vid)"
   ]
  },
  {
   "cell_type": "code",
   "execution_count": null,
   "id": "6721ab0c",
   "metadata": {},
   "outputs": [],
   "source": []
  },
  {
   "cell_type": "code",
   "execution_count": 57,
   "id": "58f9fcd8",
   "metadata": {},
   "outputs": [],
   "source": [
    "n_frames = 30\n",
    "transforms_compose = transforms.Compose([transforms.Resize(256), \n",
    "                                         transforms.ToTensor(),\n",
    "                                         transforms.Normalize(mean=[0.5], std=[0.5])])"
   ]
  },
  {
   "cell_type": "code",
   "execution_count": 58,
   "id": "67d94ef8",
   "metadata": {},
   "outputs": [
    {
     "ename": "UnboundLocalError",
     "evalue": "local variable 'vid_arr' referenced before assignment",
     "output_type": "error",
     "traceback": [
      "\u001b[1;31m---------------------------------------------------------------------------\u001b[0m",
      "\u001b[1;31mUnboundLocalError\u001b[0m                         Traceback (most recent call last)",
      "Input \u001b[1;32mIn [58]\u001b[0m, in \u001b[0;36m<cell line: 5>\u001b[1;34m()\u001b[0m\n\u001b[0;32m      2\u001b[0m ld_train \u001b[38;5;241m=\u001b[39m Turkish_Dataset(train_path, train_label)\n\u001b[0;32m      4\u001b[0m \u001b[38;5;66;03m# show image but clip rbg values\u001b[39;00m\n\u001b[1;32m----> 5\u001b[0m train_img \u001b[38;5;241m=\u001b[39m np\u001b[38;5;241m.\u001b[39marray(np\u001b[38;5;241m.\u001b[39mtranspose(\u001b[43mld_train\u001b[49m\u001b[43m[\u001b[49m\u001b[38;5;241;43m0\u001b[39;49m\u001b[43m]\u001b[49m[\u001b[38;5;241m0\u001b[39m][\u001b[38;5;241m0\u001b[39m], (\u001b[38;5;241m1\u001b[39m,\u001b[38;5;241m2\u001b[39m,\u001b[38;5;241m0\u001b[39m)))\u001b[38;5;241m.\u001b[39mastype(\u001b[38;5;124m'\u001b[39m\u001b[38;5;124muint8\u001b[39m\u001b[38;5;124m'\u001b[39m)\n\u001b[0;32m      6\u001b[0m train_img \u001b[38;5;241m=\u001b[39m cv2\u001b[38;5;241m.\u001b[39mcvtColor(train_img, cv2\u001b[38;5;241m.\u001b[39mCOLOR_RGB2BGR)               \n\u001b[0;32m      7\u001b[0m plt\u001b[38;5;241m.\u001b[39mimshow(train_img)\n",
      "Input \u001b[1;32mIn [56]\u001b[0m, in \u001b[0;36mTurkish_Dataset.__getitem__\u001b[1;34m(self, index)\u001b[0m\n\u001b[0;32m     32\u001b[0m         vid_depth \u001b[38;5;241m=\u001b[39m \u001b[38;5;28mself\u001b[39m\u001b[38;5;241m.\u001b[39mu_vid_depth[vid_name]\n\u001b[0;32m     34\u001b[0m         \u001b[38;5;66;03m# preprocessing\u001b[39;00m\n\u001b[0;32m     35\u001b[0m         \u001b[38;5;66;03m#vid_arr = masking(vid_color, vid_depth)\u001b[39;00m\n\u001b[0;32m     36\u001b[0m \u001b[38;5;66;03m#         if (len(vid_arr) < 30):\u001b[39;00m\n\u001b[0;32m     37\u001b[0m \u001b[38;5;66;03m#             print('{} has {} frames'.format(vid_name, len(vid_arr)))\u001b[39;00m\n\u001b[1;32m---> 38\u001b[0m         vid_arr \u001b[38;5;241m=\u001b[39m extract_frames(\u001b[43mvid_arr\u001b[49m, \u001b[38;5;241m30\u001b[39m)\n\u001b[0;32m     40\u001b[0m         \u001b[38;5;66;03m# create one-hot-encoding for label\u001b[39;00m\n\u001b[0;32m     41\u001b[0m         \u001b[38;5;66;03m#label = np.zeros(u_len_label)\u001b[39;00m\n\u001b[0;32m     42\u001b[0m         label \u001b[38;5;241m=\u001b[39m np\u001b[38;5;241m.\u001b[39mzeros(\u001b[38;5;241m226\u001b[39m)\n",
      "\u001b[1;31mUnboundLocalError\u001b[0m: local variable 'vid_arr' referenced before assignment"
     ]
    }
   ],
   "source": [
    "# create train dataset\n",
    "ld_train = Turkish_Dataset(train_path, train_label)\n",
    "\n",
    "# show image but clip rbg values\n",
    "train_img = np.array(np.transpose(ld_train[0][0][0], (1,2,0))).astype('uint8')\n",
    "train_img = cv2.cvtColor(train_img, cv2.COLOR_RGB2BGR)               \n",
    "plt.imshow(train_img)\n",
    "plt.show()"
   ]
  },
  {
   "cell_type": "code",
   "execution_count": 48,
   "id": "38044958",
   "metadata": {},
   "outputs": [],
   "source": [
    "# # UNCOMMENT TO SEE SAMPLED FRAMES\n",
    "# nrows, ncols = 6, 5\n",
    "# fig, ax = plt.subplots(nrows=nrows, ncols=ncols, figsize=(25, 25))\n",
    "# for i in range(n_frames):\n",
    "#     row_idx = i // ncols\n",
    "#     col_idx = i % ncols\n",
    "#     ax[row_idx][col_idx].imshow(ld_train[0][0][i].numpy().transpose(1, 2, 0))\n",
    "\n",
    "# # # UNCOMMENT TO SAVE PLOT\n",
    "# # plt.savefig('train_30_0.png')\n",
    "\n",
    "# plt.show()"
   ]
  },
  {
   "cell_type": "code",
   "execution_count": 49,
   "id": "d709416f",
   "metadata": {},
   "outputs": [
    {
     "name": "stdout",
     "output_type": "stream",
     "text": [
      "shape of first array torch.Size([30, 3, 256, 256])\n"
     ]
    },
    {
     "data": {
      "image/png": "[encoded data removed]",
      "text/plain": [
       "<Figure size 432x288 with 1 Axes>"
      ]
     },
     "metadata": {
      "needs_background": "light"
     },
     "output_type": "display_data"
    }
   ],
   "source": [
    "# create test dataset\n",
    "ld_test = Turkish_Dataset(test_path, test_label)\n",
    "print(\"shape of first array\", ld_test[0][0].shape)\n",
    "\n",
    "# show image but clip rbg values\n",
    "img_np_arr = ld_test[0][0][0].numpy()\n",
    "img_np_arr -= img_np_arr.min() \n",
    "img_np_arr /= img_np_arr.max()\n",
    "plt.imshow(img_np_arr.transpose(1, 2, 0))\n",
    "plt.show()"
   ]
  },
  {
   "cell_type": "code",
   "execution_count": 55,
   "id": "b630e68a",
   "metadata": {},
   "outputs": [
    {
     "name": "stdout",
     "output_type": "stream",
     "text": [
      "shape of first array torch.Size([30, 3, 256, 256])\n"
     ]
    },
    {
     "data": {
      "image/png": "[encoded data removed]",
      "text/plain": [
       "<Figure size 432x288 with 1 Axes>"
      ]
     },
     "metadata": {
      "needs_background": "light"
     },
     "output_type": "display_data"
    }
   ],
   "source": [
    "# create val dataset\n",
    "ld_val = Turkish_Dataset(val_path, val_label)\n",
    "print(\"shape of first array\", ld_val[0][0].shape)\n",
    "\n",
    "# show image but clip rbg values\n",
    "img_np_arr = ld_val[5][0][0].numpy()\n",
    "img_np_arr -= img_np_arr.min() \n",
    "img_np_arr /= img_np_arr.max()\n",
    "plt.imshow(img_np_arr.transpose(1, 2, 0))\n",
    "plt.show()"
   ]
  },
  {
   "cell_type": "code",
   "execution_count": 18,
   "id": "d7ec5fdc",
   "metadata": {},
   "outputs": [],
   "source": [
    "bs_train = 4\n",
    "bs_test = 4\n",
    "bs_val = 4\n",
    "train_loader = DataLoader(ld_train, batch_size = bs_train, shuffle = True)\n",
    "test_loader = DataLoader(ld_test, batch_size = bs_test, shuffle = True)\n",
    "val_loader = DataLoader(ld_val, batch_size = bs_val, shuffle = True)"
   ]
  },
  {
   "cell_type": "code",
   "execution_count": 19,
   "id": "2a52e8c4",
   "metadata": {},
   "outputs": [
    {
     "data": {
      "text/plain": [
       "==========================================================================================\n",
       "Layer (type:depth-idx)                   Output Shape              Param #\n",
       "==========================================================================================\n",
       "CNN_LSTM                                 [4, 226]                  --\n",
       "├─CNN_Encoder: 1-1                       [120, 512]                --\n",
       "│    └─Conv2d: 2-1                       [120, 64, 127, 127]       1,792\n",
       "│    └─Sequential: 2-2                   [120, 256, 6, 6]          --\n",
       "│    │    └─ConvBlock: 3-1               [120, 64, 61, 61]         74,112\n",
       "│    │    └─ConvBlock: 3-2               [120, 128, 28, 28]        221,952\n",
       "│    │    └─ConvBlock: 3-3               [120, 128, 24, 24]        295,680\n",
       "│    │    └─ConvBlock: 3-4               [120, 256, 10, 10]        886,272\n",
       "│    │    └─ConvBlock: 3-5               [120, 256, 6, 6]          1,181,184\n",
       "│    └─ConvBlock: 2-3                    [120, 512, 1, 1]          --\n",
       "│    │    └─Conv2d: 3-6                  [120, 512, 4, 4]          1,180,160\n",
       "│    │    └─BatchNorm2d: 3-7             [120, 512, 4, 4]          1,024\n",
       "│    │    └─ReLU: 3-8                    [120, 512, 4, 4]          --\n",
       "│    │    └─Conv2d: 3-9                  [120, 512, 2, 2]          2,359,808\n",
       "│    │    └─BatchNorm2d: 3-10            [120, 512, 2, 2]          1,024\n",
       "│    │    └─ReLU: 3-11                   [120, 512, 2, 2]          --\n",
       "│    │    └─AdaptiveAvgPool2d: 3-12      [120, 512, 1, 1]          --\n",
       "│    └─Linear: 2-4                       [120, 512]                262,656\n",
       "├─Dropout: 1-2                           [4, 30, 512]              --\n",
       "├─LSTM_Decoder: 1-3                      [4, 226]                  --\n",
       "│    └─LSTM: 2-5                         [4, 30, 1024]             4,202,496\n",
       "│    └─Linear: 2-6                       [4, 30, 1]                1,025\n",
       "│    └─Linear: 2-7                       [4, 226]                  231,650\n",
       "==========================================================================================\n",
       "Total params: 10,900,835\n",
       "Trainable params: 10,900,835\n",
       "Non-trainable params: 0\n",
       "Total mult-adds (G): 306.80\n",
       "==========================================================================================\n",
       "Input size (MB): 94.37\n",
       "Forward/backward pass size (MB): 7236.47\n",
       "Params size (MB): 43.60\n",
       "Estimated Total Size (MB): 7374.45\n",
       "=========================================================================================="
      ]
     },
     "execution_count": 19,
     "metadata": {},
     "output_type": "execute_result"
    }
   ],
   "source": [
    "model = CNN_LSTM(u_len_label, \n",
    "                 latent_size=512, \n",
    "                 n_cnn_layers=6, \n",
    "                 n_rnn_layers=1, \n",
    "                 n_rnn_hidden_dim=512, \n",
    "                 cnn_bn=True, \n",
    "                 bidirectional=True, \n",
    "                 dropout_rate=0.8, \n",
    "                 attention=True)\n",
    "summary(model, input_size=(4, 30, 3, 256, 256))"
   ]
  },
  {
   "cell_type": "code",
   "execution_count": 20,
   "id": "248eaed2",
   "metadata": {},
   "outputs": [],
   "source": [
    "# hyperparams\n",
    "no_of_epochs = 1000\n",
    "optimizer_lr = 1e-5\n",
    "save_dir = \"saved_models/train_final_masked\""
   ]
  },
  {
   "cell_type": "code",
   "execution_count": 21,
   "id": "c1b62e0b",
   "metadata": {},
   "outputs": [
    {
     "name": "stderr",
     "output_type": "stream",
     "text": [
      "######################Training Started######################\n",
      "Epoch 1\n",
      "100%|██████████| 7031/7031 [3:05:27<00:00,  1.58s/batch, accuracy=0, loss=4.54]      \n",
      "Average Training Loss of Epoch 1: 5.251638 | Acc: 1.03%\n",
      "100%|██████████| 1104/1104 [16:44<00:00,  1.10batch/s, accuracy=0, loss=6.98]   \n",
      "Average Validation Loss of Epoch 1: 5.034524 | Acc: 2.06%\n",
      "####################Epoch 1 Model Saved#####################\n",
      "Epoch 2\n",
      "100%|██████████| 7031/7031 [1:55:28<00:00,  1.01batch/s, accuracy=0, loss=4.01]   \n",
      "Average Training Loss of Epoch 2: 4.332445 | Acc: 5.97%\n",
      "100%|██████████| 1104/1104 [16:00<00:00,  1.15batch/s, accuracy=0, loss=6.53]   \n",
      "Average Validation Loss of Epoch 2: 4.431714 | Acc: 9.22%\n",
      "####################Epoch 2 Model Saved#####################\n",
      "Epoch 3\n",
      "100%|██████████| 7031/7031 [1:54:36<00:00,  1.02batch/s, accuracy=0, loss=3.28]   \n",
      "Average Training Loss of Epoch 3: 3.611264 | Acc: 16.58%\n",
      "100%|██████████| 1104/1104 [16:40<00:00,  1.10batch/s, accuracy=0, loss=3.29]   \n",
      "Average Validation Loss of Epoch 3: 3.961878 | Acc: 16.75%\n",
      "####################Epoch 3 Model Saved#####################\n",
      "Epoch 4\n",
      "100%|██████████| 7031/7031 [1:56:09<00:00,  1.01batch/s, accuracy=0.667, loss=1.99] \n",
      "Average Training Loss of Epoch 4: 2.997176 | Acc: 29.23%\n",
      "100%|██████████| 1104/1104 [16:42<00:00,  1.10batch/s, accuracy=0, loss=5.74]   \n",
      "Average Validation Loss of Epoch 4: 4.103480 | Acc: 15.98%\n",
      "####################Epoch 4 Model Saved#####################\n",
      "Increment early stopper to 1 because val loss (4.1034795786591545) is greater than threshold (3.961878202531649)\n",
      "Epoch 5\n",
      "100%|██████████| 7031/7031 [1:55:35<00:00,  1.01batch/s, accuracy=0.333, loss=2.2]\n",
      "Average Training Loss of Epoch 5: 2.498569 | Acc: 40.12%\n",
      "100%|██████████| 1104/1104 [16:22<00:00,  1.12batch/s, accuracy=0, loss=2.56]   \n",
      "Average Validation Loss of Epoch 5: 3.578711 | Acc: 22.59%\n",
      "####################Epoch 5 Model Saved#####################\n",
      "Epoch 6\n",
      "100%|██████████| 7031/7031 [1:54:44<00:00,  1.02batch/s, accuracy=0.333, loss=2.58]\n",
      "Average Training Loss of Epoch 6: 2.085062 | Acc: 49.37%\n",
      "100%|██████████| 1104/1104 [16:18<00:00,  1.13batch/s, accuracy=0, loss=6.69]   \n",
      "Average Validation Loss of Epoch 6: 4.102172 | Acc: 17.88%\n",
      "####################Epoch 6 Model Saved#####################\n",
      "Increment early stopper to 1 because val loss (4.102172266961872) is greater than threshold (3.5787112507699192)\n",
      "Epoch 7\n",
      "100%|██████████| 7031/7031 [1:57:21<00:00,  1.00s/batch, accuracy=0.667, loss=1.58]\n",
      "Average Training Loss of Epoch 7: 1.737954 | Acc: 57.79%\n",
      "100%|██████████| 1104/1104 [18:16<00:00,  1.01batch/s, accuracy=0, loss=3.15]   \n",
      "Average Validation Loss of Epoch 7: 3.865750 | Acc: 19.74%\n",
      "####################Epoch 7 Model Saved#####################\n",
      "Increment early stopper to 2 because val loss (3.8657499248350877) is greater than threshold (3.5787112507699192)\n",
      "Epoch 8\n",
      "100%|██████████| 7031/7031 [1:58:04<00:00,  1.01s/batch, accuracy=1, loss=0.79]      \n",
      "Average Training Loss of Epoch 8: 1.443407 | Acc: 65.16%\n",
      "100%|██████████| 1104/1104 [16:25<00:00,  1.12batch/s, accuracy=0, loss=5.4]    \n",
      "Average Validation Loss of Epoch 8: 3.973321 | Acc: 21.46%\n",
      "####################Epoch 8 Model Saved#####################\n",
      "Increment early stopper to 3 because val loss (3.973321097160595) is greater than threshold (3.5787112507699192)\n",
      "Epoch 9\n",
      "100%|██████████| 7031/7031 [1:56:32<00:00,  1.01batch/s, accuracy=0.667, loss=1.93]  \n",
      "Average Training Loss of Epoch 9: 1.194293 | Acc: 71.05%\n",
      "100%|██████████| 1104/1104 [16:12<00:00,  1.14batch/s, accuracy=0, loss=4.39]   \n",
      "Average Validation Loss of Epoch 9: 3.872698 | Acc: 22.52%\n",
      "####################Epoch 9 Model Saved#####################\n",
      "Increment early stopper to 4 because val loss (3.8726982452191305) is greater than threshold (3.5787112507699192)\n",
      "Epoch 10\n"
     ]
    },
    {
     "name": "stdout",
     "output_type": "stream",
     "text": [
      "Epoch     9: reducing learning rate of group 0 to 1.0000e-06.\n"
     ]
    },
    {
     "name": "stderr",
     "output_type": "stream",
     "text": [
      "100%|██████████| 7031/7031 [1:58:15<00:00,  1.01s/batch, accuracy=0.667, loss=1.18]  \n",
      "Average Training Loss of Epoch 10: 0.878426 | Acc: 82.85%\n",
      "100%|██████████| 1104/1104 [17:36<00:00,  1.05batch/s, accuracy=0, loss=1.32]    \n",
      "Average Validation Loss of Epoch 10: 3.543235 | Acc: 25.72%\n",
      "####################Epoch 10 Model Saved####################\n",
      "Epoch 11\n",
      "100%|██████████| 7031/7031 [2:13:28<00:00,  1.14s/batch, accuracy=0.667, loss=1.08]  \n",
      "Average Training Loss of Epoch 11: 0.805137 | Acc: 85.71%\n",
      "100%|██████████| 1104/1104 [17:33<00:00,  1.05batch/s, accuracy=1, loss=0.526]   \n",
      "Average Validation Loss of Epoch 11: 3.532911 | Acc: 26.42%\n",
      "####################Epoch 11 Model Saved####################\n",
      "Epoch 12\n",
      "100%|██████████| 7031/7031 [2:12:12<00:00,  1.13s/batch, accuracy=1, loss=0.348]     \n",
      "Average Training Loss of Epoch 12: 0.757922 | Acc: 87.24%\n",
      "100%|██████████| 1104/1104 [19:13<00:00,  1.04s/batch, accuracy=1, loss=0.501]  \n",
      "Average Validation Loss of Epoch 12: 3.608754 | Acc: 25.06%\n",
      "####################Epoch 12 Model Saved####################\n",
      "Increment early stopper to 1 because val loss (3.6087538662326075) is greater than threshold (3.532910531197769)\n",
      "Epoch 13\n",
      "100%|██████████| 7031/7031 [2:56:57<00:00,  1.51s/batch, accuracy=1, loss=0.796]        \n",
      "Average Training Loss of Epoch 13: 0.714861 | Acc: 88.53%\n",
      "100%|██████████| 1104/1104 [16:38<00:00,  1.11batch/s, accuracy=0, loss=4.01]   \n",
      "Average Validation Loss of Epoch 13: 3.684755 | Acc: 23.95%\n",
      "####################Epoch 13 Model Saved####################\n",
      "Increment early stopper to 2 because val loss (3.684755188588431) is greater than threshold (3.532910531197769)\n",
      "Epoch 14\n",
      "100%|██████████| 7031/7031 [1:57:28<00:00,  1.00s/batch, accuracy=1, loss=0.429]     \n",
      "Average Training Loss of Epoch 14: 0.678845 | Acc: 89.46%\n",
      "100%|██████████| 1104/1104 [16:57<00:00,  1.09batch/s, accuracy=0, loss=2.75]   \n",
      "Average Validation Loss of Epoch 14: 3.683418 | Acc: 23.88%\n",
      "####################Epoch 14 Model Saved####################\n",
      "Increment early stopper to 3 because val loss (3.683418281133408) is greater than threshold (3.532910531197769)\n",
      "Epoch 15\n",
      "100%|██████████| 7031/7031 [1:57:27<00:00,  1.00s/batch, accuracy=1, loss=0.164]     \n",
      "Average Training Loss of Epoch 15: 0.640343 | Acc: 90.72%\n",
      "100%|██████████| 1104/1104 [16:17<00:00,  1.13batch/s, accuracy=0, loss=6.21]    \n",
      "Average Validation Loss of Epoch 15: 3.733543 | Acc: 23.70%\n",
      "####################Epoch 15 Model Saved####################\n",
      "Increment early stopper to 4 because val loss (3.733542586042397) is greater than threshold (3.532910531197769)\n",
      "Epoch 16\n"
     ]
    },
    {
     "name": "stdout",
     "output_type": "stream",
     "text": [
      "Epoch    15: reducing learning rate of group 0 to 1.0000e-07.\n"
     ]
    },
    {
     "name": "stderr",
     "output_type": "stream",
     "text": [
      "100%|██████████| 7031/7031 [1:56:37<00:00,  1.00batch/s, accuracy=1, loss=0.389]     \n",
      "Average Training Loss of Epoch 16: 0.605810 | Acc: 91.94%\n",
      "100%|██████████| 1104/1104 [16:39<00:00,  1.10batch/s, accuracy=0, loss=2.18]   \n",
      "Average Validation Loss of Epoch 16: 3.708137 | Acc: 24.63%\n",
      "####################Epoch 16 Model Saved####################\n",
      "Increment early stopper to 5 because val loss (3.7081371211055396) is greater than threshold (3.532910531197769)\n",
      "Epoch 17\n",
      "100%|██████████| 7031/7031 [1:56:26<00:00,  1.01batch/s, accuracy=1, loss=0.734]     \n",
      "Average Training Loss of Epoch 17: 0.598665 | Acc: 92.14%\n",
      "100%|██████████| 1104/1104 [16:27<00:00,  1.12batch/s, accuracy=0, loss=2.06]   \n",
      "Average Validation Loss of Epoch 17: 3.690118 | Acc: 24.54%\n",
      "####################Epoch 17 Model Saved####################\n",
      "Increment early stopper to 6 because val loss (3.690117535005877) is greater than threshold (3.532910531197769)\n",
      "Epoch 18\n",
      "100%|██████████| 7031/7031 [2:25:22<00:00,  1.24s/batch, accuracy=0.667, loss=1.22]    \n",
      "Average Training Loss of Epoch 18: 0.594452 | Acc: 92.18%\n",
      "100%|██████████| 1104/1104 [16:49<00:00,  1.09batch/s, accuracy=1, loss=1.4]    \n",
      "Average Validation Loss of Epoch 18: 3.706043 | Acc: 24.18%\n",
      "####################Epoch 18 Model Saved####################\n",
      "Increment early stopper to 7 because val loss (3.7060428572197757) is greater than threshold (3.532910531197769)\n",
      "Epoch 19\n",
      "100%|██████████| 7031/7031 [2:53:18<00:00,  1.48s/batch, accuracy=1, loss=0.495]        \n",
      "Average Training Loss of Epoch 19: 0.591802 | Acc: 92.21%\n",
      "100%|██████████| 1104/1104 [17:35<00:00,  1.05batch/s, accuracy=0, loss=5.52]   \n",
      "Average Validation Loss of Epoch 19: 3.702195 | Acc: 24.59%\n",
      "####################Epoch 19 Model Saved####################\n",
      "Increment early stopper to 8 because val loss (3.7021950392079526) is greater than threshold (3.532910531197769)\n",
      "Epoch 20\n"
     ]
    },
    {
     "name": "stdout",
     "output_type": "stream",
     "text": [
      "Epoch    19: reducing learning rate of group 0 to 1.0000e-08.\n"
     ]
    },
    {
     "name": "stderr",
     "output_type": "stream",
     "text": [
      "100%|██████████| 7031/7031 [2:05:38<00:00,  1.07s/batch, accuracy=1, loss=0.659]     \n",
      "Average Training Loss of Epoch 20: 0.585876 | Acc: 92.63%\n",
      "100%|██████████| 1104/1104 [22:14<00:00,  1.21s/batch, accuracy=0, loss=3.71]    \n",
      "Average Validation Loss of Epoch 20: 3.714222 | Acc: 24.29%\n",
      "####################Epoch 20 Model Saved####################\n",
      "Increment early stopper to 9 because val loss (3.714221527772969) is greater than threshold (3.532910531197769)\n",
      "Epoch 21\n",
      "100%|██████████| 7031/7031 [3:05:11<00:00,  1.58s/batch, accuracy=0.667, loss=0.928]   \n",
      "Average Training Loss of Epoch 21: 0.586502 | Acc: 92.40%\n",
      "100%|██████████| 1104/1104 [52:49<00:00,  2.87s/batch, accuracy=0, loss=6.57]     \n",
      "Average Validation Loss of Epoch 21: 3.737750 | Acc: 24.11%\n",
      "####################Epoch 21 Model Saved####################\n",
      "Increment early stopper to 10 because val loss (3.7377501164657483) is greater than threshold (3.532910531197769)\n",
      "Model has overfit, early stopping...\n",
      "#####################Training Finished######################\n"
     ]
    },
    {
     "data": {
      "text/plain": [
       "CNN_LSTM(\n",
       "  (encoder): CNN_Encoder(\n",
       "    (conv1): Conv2d(3, 64, kernel_size=(3, 3), stride=(2, 2))\n",
       "    (maxpool): MaxPool2d(kernel_size=3, stride=2, padding=0, dilation=1, ceil_mode=False)\n",
       "    (layers): Sequential(\n",
       "      (0): ConvBlock(\n",
       "        (conv1): Conv2d(64, 64, kernel_size=(3, 3), stride=(1, 1))\n",
       "        (conv2): Conv2d(64, 64, kernel_size=(3, 3), stride=(1, 1))\n",
       "        (batchnorm1): BatchNorm2d(64, eps=1e-05, momentum=0.01, affine=True, track_running_stats=True)\n",
       "        (batchnorm2): BatchNorm2d(64, eps=1e-05, momentum=0.01, affine=True, track_running_stats=True)\n",
       "        (a_fn): ReLU()\n",
       "        (pool): MaxPool2d(kernel_size=2, stride=2, padding=0, dilation=1, ceil_mode=False)\n",
       "      )\n",
       "      (1): ConvBlock(\n",
       "        (conv1): Conv2d(64, 128, kernel_size=(3, 3), stride=(1, 1))\n",
       "        (conv2): Conv2d(128, 128, kernel_size=(3, 3), stride=(1, 1))\n",
       "        (batchnorm1): BatchNorm2d(128, eps=1e-05, momentum=0.01, affine=True, track_running_stats=True)\n",
       "        (batchnorm2): BatchNorm2d(128, eps=1e-05, momentum=0.01, affine=True, track_running_stats=True)\n",
       "        (a_fn): ReLU()\n",
       "        (pool): MaxPool2d(kernel_size=2, stride=2, padding=0, dilation=1, ceil_mode=False)\n",
       "      )\n",
       "      (2): ConvBlock(\n",
       "        (conv1): Conv2d(128, 128, kernel_size=(3, 3), stride=(1, 1))\n",
       "        (conv2): Conv2d(128, 128, kernel_size=(3, 3), stride=(1, 1))\n",
       "        (batchnorm1): BatchNorm2d(128, eps=1e-05, momentum=0.01, affine=True, track_running_stats=True)\n",
       "        (batchnorm2): BatchNorm2d(128, eps=1e-05, momentum=0.01, affine=True, track_running_stats=True)\n",
       "        (a_fn): ReLU()\n",
       "      )\n",
       "      (3): ConvBlock(\n",
       "        (conv1): Conv2d(128, 256, kernel_size=(3, 3), stride=(1, 1))\n",
       "        (conv2): Conv2d(256, 256, kernel_size=(3, 3), stride=(1, 1))\n",
       "        (batchnorm1): BatchNorm2d(256, eps=1e-05, momentum=0.01, affine=True, track_running_stats=True)\n",
       "        (batchnorm2): BatchNorm2d(256, eps=1e-05, momentum=0.01, affine=True, track_running_stats=True)\n",
       "        (a_fn): ReLU()\n",
       "        (pool): MaxPool2d(kernel_size=2, stride=2, padding=0, dilation=1, ceil_mode=False)\n",
       "      )\n",
       "      (4): ConvBlock(\n",
       "        (conv1): Conv2d(256, 256, kernel_size=(3, 3), stride=(1, 1))\n",
       "        (conv2): Conv2d(256, 256, kernel_size=(3, 3), stride=(1, 1))\n",
       "        (batchnorm1): BatchNorm2d(256, eps=1e-05, momentum=0.01, affine=True, track_running_stats=True)\n",
       "        (batchnorm2): BatchNorm2d(256, eps=1e-05, momentum=0.01, affine=True, track_running_stats=True)\n",
       "        (a_fn): ReLU()\n",
       "      )\n",
       "    )\n",
       "    (conv2): ConvBlock(\n",
       "      (conv1): Conv2d(256, 512, kernel_size=(3, 3), stride=(1, 1))\n",
       "      (conv2): Conv2d(512, 512, kernel_size=(3, 3), stride=(1, 1))\n",
       "      (batchnorm1): BatchNorm2d(512, eps=1e-05, momentum=0.01, affine=True, track_running_stats=True)\n",
       "      (batchnorm2): BatchNorm2d(512, eps=1e-05, momentum=0.01, affine=True, track_running_stats=True)\n",
       "      (a_fn): ReLU()\n",
       "      (pool): AdaptiveAvgPool2d(output_size=1)\n",
       "    )\n",
       "    (fc): Linear(in_features=512, out_features=512, bias=True)\n",
       "  )\n",
       "  (decoder): LSTM_Decoder(\n",
       "    (lstm): LSTM(512, 512, batch_first=True, bidirectional=True)\n",
       "    (fc1): Linear(in_features=1024, out_features=226, bias=True)\n",
       "    (a_fn): ReLU()\n",
       "    (attention_layer): Linear(in_features=1024, out_features=1, bias=True)\n",
       "  )\n",
       "  (dropout): Dropout(p=0.8, inplace=False)\n",
       ")"
      ]
     },
     "execution_count": 21,
     "metadata": {},
     "output_type": "execute_result"
    }
   ],
   "source": [
    "train(model, \n",
    "      train_loader, \n",
    "      val_loader, \n",
    "      no_of_epochs, \n",
    "      logger,\n",
    "      writer,\n",
    "      save_dir=save_dir, \n",
    "      save_checkpoint=True,\n",
    "      device=device, \n",
    "      patience=10, \n",
    "      optimizer_lr=optimizer_lr, \n",
    "      use_scheduler=True)"
   ]
  },
  {
   "cell_type": "code",
   "execution_count": null,
   "id": "523adbaf",
   "metadata": {},
   "outputs": [],
   "source": []
  }
 ],
 "metadata": {
  "kernelspec": {
   "display_name": "Python 3 (ipykernel)",
   "language": "python",
   "name": "python3"
  },
  "language_info": {
   "codemirror_mode": {
    "name": "ipython",
    "version": 3
   },
   "file_extension": ".py",
   "mimetype": "text/x-python",
   "name": "python",
   "nbconvert_exporter": "python",
   "pygments_lexer": "ipython3",
   "version": "3.8.13"
  }
 },
 "nbformat": 4,
 "nbformat_minor": 5
}
